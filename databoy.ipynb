{
 "cells": [
  {
   "cell_type": "code",
   "execution_count": 44,
   "id": "fdd3fdfb",
   "metadata": {},
   "outputs": [],
   "source": [
    "import requests\n",
    "def positionData(subwaynm):\n",
    "    url = \"http://swopenAPI.seoul.go.kr/api/subway/707a6e4c476a646b3939556d6f4f52/json/realtimePosition/0/5/\" + subwaynm\n",
    "    response = requests.get(url)\n",
    "    return response.json()['realtimePositionList']"
   ]
  },
  {
   "cell_type": "code",
   "execution_count": 47,
   "id": "7cdb3d5f",
   "metadata": {},
   "outputs": [
    {
     "name": "stdout",
     "output_type": "stream",
     "text": [
      "[{'beginRow': None, 'endRow': None, 'curPage': None, 'pageRow': None, 'totalCount': 11, 'rowNum': 1, 'selectedCount': 5, 'subwayId': '1077', 'subwayNm': '신분당선', 'statnId': '1077000687', 'statnNm': '강남', 'trainNo': '11', 'lastRecptnDt': '20220531', 'recptnDt': '2022-05-31 16:01:09', 'updnLine': '0', 'statnTid': '13', 'statnTnm': '13', 'trainSttus': '1', 'directAt': '0', 'lstcarAt': '0'}, {'beginRow': None, 'endRow': None, 'curPage': None, 'pageRow': None, 'totalCount': 11, 'rowNum': 2, 'selectedCount': 5, 'subwayId': '1077', 'subwayNm': '신분당선', 'statnId': '1077000687', 'statnNm': '강남', 'trainNo': '6', 'lastRecptnDt': '20220531', 'recptnDt': '2022-05-31 16:01:45', 'updnLine': '1', 'statnTid': '1077006819', 'statnTnm': '광교', 'trainSttus': '2', 'directAt': '0', 'lstcarAt': '0'}, {'beginRow': None, 'endRow': None, 'curPage': None, 'pageRow': None, 'totalCount': 11, 'rowNum': 3, 'selectedCount': 5, 'subwayId': '1077', 'subwayNm': '신분당선', 'statnId': '1077006810', 'statnNm': '청계산입구', 'trainNo': '17', 'lastRecptnDt': '20220531', 'recptnDt': '2022-05-31 16:01:26', 'updnLine': '0', 'statnTid': '13', 'statnTnm': '13', 'trainSttus': '0', 'directAt': '0', 'lstcarAt': '0'}, {'beginRow': None, 'endRow': None, 'curPage': None, 'pageRow': None, 'totalCount': 11, 'rowNum': 4, 'selectedCount': 5, 'subwayId': '1077', 'subwayNm': '신분당선', 'statnId': '1077006810', 'statnNm': '청계산입구', 'trainNo': '4', 'lastRecptnDt': '20220531', 'recptnDt': '2022-05-31 16:01:02', 'updnLine': '1', 'statnTid': '1077006819', 'statnTnm': '광교', 'trainSttus': '2', 'directAt': '0', 'lstcarAt': '0'}, {'beginRow': None, 'endRow': None, 'curPage': None, 'pageRow': None, 'totalCount': 11, 'rowNum': 5, 'selectedCount': 5, 'subwayId': '1077', 'subwayNm': '신분당선', 'statnId': '1077006812', 'statnNm': '정자', 'trainNo': '12', 'lastRecptnDt': '20220531', 'recptnDt': '2022-05-31 16:01:23', 'updnLine': '1', 'statnTid': '1077006819', 'statnTnm': '광교', 'trainSttus': '1', 'directAt': '0', 'lstcarAt': '0'}]\n"
     ]
    }
   ],
   "source": [
    "dxline = positionData(\"신분당선\")\n",
    "n = len(dxline)\n",
    "print(dxline)"
   ]
  },
  {
   "cell_type": "code",
   "execution_count": 63,
   "id": "99d1b310",
   "metadata": {},
   "outputs": [],
   "source": [
    "class Train:\n",
    "    def setdata(self, data):\n",
    "        self.subwayNm = data['subwayNm']\n",
    "        self.trainNo = data['trainNo']\n",
    "        self.lastRecptnDt = data['lastRecptnDt']\n",
    "        self.recptnDt = data['recptnDt']\n",
    "        self.updnLine = data['updnLine']\n",
    "        self.statnTid = data['statnTid']\n",
    "        self.statnTnm = data['statnTnm']\n",
    "        self.trainSttus = data['trainSttus']\n",
    "        self.directAt = data['directAt']\n",
    "        self.lstcarAt = data['lstcarAt']"
   ]
  },
  {
   "cell_type": "code",
   "execution_count": 65,
   "id": "c007f10f",
   "metadata": {},
   "outputs": [
    {
     "name": "stdout",
     "output_type": "stream",
     "text": [
      "신분당선\n"
     ]
    }
   ],
   "source": [
    "dxline0 = Train()\n",
    "dxline0.setdata(dxline[0])\n",
    "print(dxline0.subwayNm)"
   ]
  }
 ],
 "metadata": {
  "kernelspec": {
   "display_name": "Python 3 (ipykernel)",
   "language": "python",
   "name": "python3"
  },
  "language_info": {
   "codemirror_mode": {
    "name": "ipython",
    "version": 3
   },
   "file_extension": ".py",
   "mimetype": "text/x-python",
   "name": "python",
   "nbconvert_exporter": "python",
   "pygments_lexer": "ipython3",
   "version": "3.9.7"
  }
 },
 "nbformat": 4,
 "nbformat_minor": 5
}
